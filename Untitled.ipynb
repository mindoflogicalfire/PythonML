{
 "cells": [
  {
   "cell_type": "code",
   "execution_count": null,
   "id": "6d794a04",
   "metadata": {},
   "outputs": [],
   "source": [
    "print(\"hds\\\n",
    "      \")\n"
   ]
  },
  {
   "cell_type": "code",
   "execution_count": null,
   "id": "050ef895",
   "metadata": {},
   "outputs": [],
   "source": [
    "print(bool(None))\n",
    "print(bool(0))\n",
    "print(bool(()))\n",
    "print(bool([]))\n",
    "print(bool({}))\n",
    "print(bool({'' ''}))\n"
   ]
  },
  {
   "cell_type": "code",
   "execution_count": null,
   "id": "56289d06",
   "metadata": {},
   "outputs": [],
   "source": [
    "def jf():\n",
    "    return True\n",
    "\n",
    "\n",
    "print(jf())\n"
   ]
  },
  {
   "cell_type": "code",
   "execution_count": null,
   "id": "1340667f",
   "metadata": {},
   "outputs": [],
   "source": [
    "s = ''' data types strings and operators'''\n",
    "print(len(s))\n",
    "print(s.casefold())\n"
   ]
  },
  {
   "cell_type": "code",
   "execution_count": null,
   "id": "82755efd",
   "metadata": {},
   "outputs": [],
   "source": [
    "str = \"hELLO\"\n",
    "if \"hello\" == str.casefold():\n",
    "    print(\"666\")\n",
    "if \"Hello\" == str.casefold():\n",
    "    print(\"hhhhhj\")\n"
   ]
  },
  {
   "cell_type": "code",
   "execution_count": null,
   "id": "4c926e48",
   "metadata": {},
   "outputs": [],
   "source": [
    "# lists tuple set dist frozenset\n",
    "list = [\"87\", \"fffff\", \"ewrs\"]\n",
    "print(len(list))\n",
    "print(list.extend('8'))\n"
   ]
  },
  {
   "cell_type": "code",
   "execution_count": 8,
   "id": "1f687e7d",
   "metadata": {},
   "outputs": [
    {
     "name": "stdout",
     "output_type": "stream",
     "text": [
      "17\n",
      "do you want to continue press y to continue\n",
      " wrong input\n",
      "do you want to continue press y to continue\n"
     ]
    }
   ],
   "source": [
    "ch1='y'\n",
    "while ch1=='y' or ch1=='Y':\n",
    "    \n",
    "    a = int(input(\"enter a number \"))\n",
    "    b = int(input(\"enter another number \"))\n",
    "    ch = input(\"enter operator \")\n",
    "\n",
    "    if ch == '+':           \n",
    "        print(a+b)\n",
    "    elif ch == '-':             \n",
    "        print(a-b)\n",
    "    elif ch == '/':             \n",
    "        print(a/b)\n",
    "    elif ch == '*':             \n",
    "        print(a*b)\n",
    "    elif ch == '%':\n",
    "        print(a % b)\n",
    "    else:\n",
    "        print(\" wrong input\")\n",
    "    print(\"do you want to continue press y to continue\")\n",
    "    ch1=input()\n"
   ]
  },
  {
   "cell_type": "code",
   "execution_count": null,
   "id": "c3d9bbb6",
   "metadata": {},
   "outputs": [],
   "source": [
    "# list function\n",
    "list1 = [\"34Suraj\", \"UAE\", \"India\", \"Iraq\"]3\n"
   ]
  },
  {
   "cell_type": "code",
   "execution_count": 12,
   "id": "86e00f47",
   "metadata": {},
   "outputs": [
    {
     "name": "stdout",
     "output_type": "stream",
     "text": [
      "22\n",
      "33\n"
     ]
    }
   ],
   "source": [
    "def myfunc(n):\n",
    "  print(a)\n",
    "  return lambda a : a * n\n",
    "\n",
    "# mydoubler = myfunc(2)\n",
    "# mytripler = myfunc(3)\n",
    "\n",
    "print(mydoubler(11))\n",
    "print(mytripler(11))\n"
   ]
  },
  {
   "cell_type": "code",
   "execution_count": 15,
   "id": "cc87ac1e",
   "metadata": {},
   "outputs": [
    {
     "name": "stdout",
     "output_type": "stream",
     "text": [
      "22\n",
      "33\n"
     ]
    }
   ],
   "source": [
    "\n",
    "def myfunc(n):\n",
    "  print(n)\n",
    "  return lambda a : a * n\n",
    "\n",
    "\n",
    "print(mydoubler(11))\n",
    "print(mytripler(11))\n"
   ]
  },
  {
   "cell_type": "code",
   "execution_count": 20,
   "id": "c104b3c4",
   "metadata": {},
   "outputs": [
    {
     "ename": "AttributeError",
     "evalue": "module 'module' has no attribute 'sum'",
     "output_type": "error",
     "traceback": [
      "\u001b[1;31m---------------------------------------------------------------------------\u001b[0m",
      "\u001b[1;31mAttributeError\u001b[0m                            Traceback (most recent call last)",
      "Cell \u001b[1;32mIn[20], line 2\u001b[0m\n\u001b[0;32m      1\u001b[0m \u001b[39mimport\u001b[39;00m \u001b[39mmodule\u001b[39;00m \u001b[39mas\u001b[39;00m \u001b[39mmm\u001b[39;00m  \n\u001b[1;32m----> 2\u001b[0m \u001b[39mprint\u001b[39m(mm\u001b[39m.\u001b[39;49msum(\u001b[39m3\u001b[39m,\u001b[39m4\u001b[39m))\n",
      "\u001b[1;31mAttributeError\u001b[0m: module 'module' has no attribute 'sum'"
     ]
    }
   ],
   "source": [
    "import module as mm  \n",
    "print(mm.sum(3,4))"
   ]
  }
 ],
 "metadata": {
  "kernelspec": {
   "display_name": "Python 3",
   "language": "python",
   "name": "python3"
  },
  "language_info": {
   "codemirror_mode": {
    "name": "ipython",
    "version": 3
   },
   "file_extension": ".py",
   "mimetype": "text/x-python",
   "name": "python",
   "nbconvert_exporter": "python",
   "pygments_lexer": "ipython3",
   "version": "3.10.9"
  },
  "vscode": {
   "interpreter": {
    "hash": "c3900aa5fe981cb78c6aeaddc9861f0e8b92eb0d4d48bdab874924075aa8278d"
   }
  }
 },
 "nbformat": 4,
 "nbformat_minor": 5
}
